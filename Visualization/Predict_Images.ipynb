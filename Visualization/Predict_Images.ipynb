{
 "cells": [
  {
   "cell_type": "code",
   "execution_count": 1,
   "metadata": {},
   "outputs": [
    {
     "name": "stderr",
     "output_type": "stream",
     "text": [
      "D:\\Program Files (x86)\\Microsoft Visual Studio\\Shared\\Anaconda3_64\\lib\\site-packages\\h5py\\__init__.py:36: FutureWarning: Conversion of the second argument of issubdtype from `float` to `np.floating` is deprecated. In future, it will be treated as `np.float64 == np.dtype(float).type`.\n",
      "  from ._conv import register_converters as _register_converters\n",
      "Using TensorFlow backend.\n"
     ]
    }
   ],
   "source": [
    "import cv2\n",
    "import matplotlib.pyplot as plt\n",
    "import numpy as np\n",
    "import os\n",
    "from pathlib import Path\n",
    "from keras.models import load_model\n",
    "import keras.backend as K\n",
    "from tqdm import tqdm_notebook as tqdm\n",
    "import pickle"
   ]
  },
  {
   "cell_type": "code",
   "execution_count": 2,
   "metadata": {},
   "outputs": [],
   "source": [
    "path_base = os.path.join('I:\\\\', 'Beleg', 'data')\n",
    "path_model = os.path.join('I:\\\\', 'Beleg', 'models_second_tests', 'model_sgd_100_MMAE_simple_momentum_nesterov.h5')\n",
    "path_test = os.path.join(path_base, 'test')\n",
    "path_write = os.path.join('I:\\\\', 'Beleg', 'test_results')"
   ]
  },
  {
   "cell_type": "code",
   "execution_count": 3,
   "metadata": {},
   "outputs": [],
   "source": [
    "def Masked_Mean_Absolute_Error(y_true, y_pred):\n",
    "    '''Masked mean absolut error custom loss function'''\n",
    "    # create binary artifact maps from ground truth depth maps\n",
    "    A_i = K.greater(y_true, 0)\n",
    "    A_i = K.cast(A_i, dtype='float32')\n",
    "    loss = K.mean(\n",
    "                K.sum(\n",
    "                        K.abs(y_true - y_pred) * A_i,\n",
    "                        axis=(1,2,3)\n",
    "                     )\n",
    "                /\n",
    "                K.sum(A_i, axis=(1,2,3))\n",
    "            )\n",
    "    lower_boundary = K.less(y_pred, 0)\n",
    "    lower_boundary = K.cast(lower_boundary, dtype='float32')\n",
    "    upper_boundary = K.greater(y_pred, 65535)\n",
    "    upper_boundary = K.cast(upper_boundary, dtype='float32')\n",
    "    interval_loss = K.sum(lower_boundary * 10000 + upper_boundary * 10000)   \n",
    "    return loss+interval_loss\n",
    "\n",
    "\n",
    "def Masked_Mean_Absolute_Error_Sigmoid(y_true, y_pred):\n",
    "    '''Masked mean absolut error custom loss function'''\n",
    "    # create binary artifact maps from ground truth depth maps\n",
    "    A_i = K.greater(y_true, 0)\n",
    "    A_i = K.cast(A_i, dtype='float32')\n",
    "    # Since we are using a sigmoid activation function, scale the predictions from [0,1] to [0,65535]\n",
    "    y_pred = y_pred * 65535\n",
    "    loss = K.mean(\n",
    "                K.sum(\n",
    "                        K.abs(y_true - y_pred) * A_i,\n",
    "                        axis=(1,2,3)\n",
    "                     )\n",
    "                /\n",
    "                K.sum(A_i, axis=(1,2,3))\n",
    "            )\n",
    "    lower_boundary = K.less(y_pred, 0)\n",
    "    lower_boundary = K.cast(lower_boundary, dtype='float32')\n",
    "    upper_boundary = K.greater(y_pred, 65535)\n",
    "    upper_boundary = K.cast(upper_boundary, dtype='float32')\n",
    "    interval_loss = K.sum(lower_boundary * 10000 + upper_boundary * 10000)   \n",
    "    return loss+interval_loss\n",
    "\n",
    "\n",
    "def Masked_Mean_Absolute_Error_Simple(y_true, y_pred):\n",
    "    '''Masked mean absolut error custom loss function'''\n",
    "    # create binary artifact maps from ground truth depth maps\n",
    "    A_i = K.greater(y_true, 0)\n",
    "    A_i = K.cast(A_i, dtype='float32')\n",
    "    loss = K.mean(\n",
    "                K.sum(\n",
    "                        K.abs(y_true - y_pred) * A_i,\n",
    "                        axis=(1,2,3)\n",
    "                     )\n",
    "                /\n",
    "                K.sum(A_i, axis=(1,2,3))\n",
    "            ) \n",
    "    return loss\n",
    "\n",
    "\n",
    "def Masked_Mean_Absolute_Error_Simple_Sigmoid(y_true, y_pred):\n",
    "    '''Masked mean absolut error custom loss function'''\n",
    "    # create binary artifact maps from ground truth depth maps\n",
    "    A_i = K.greater(y_true, 0)\n",
    "    A_i = K.cast(A_i, dtype='float32')\n",
    "    # Since we are using a sigmoid activation function, scale the predictions from [0,1] to [0,65535]\n",
    "    y_pred = y_pred * 65535\n",
    "    loss = K.mean(\n",
    "                K.sum(\n",
    "                        K.abs(y_true - y_pred) * A_i,\n",
    "                        axis=(1,2,3)\n",
    "                     )\n",
    "                /\n",
    "                K.sum(A_i, axis=(1,2,3))\n",
    "            ) \n",
    "    return loss\n",
    "\n",
    "\n",
    "def Masked_Root_Mean_Squared_Error(y_true, y_pred):\n",
    "    '''Masked root mean squared error custom loss function'''\n",
    "    # create binary artifact maps from ground truth depth maps\n",
    "    A_i = K.greater(y_true, 0)\n",
    "    A_i = K.cast(A_i, dtype='float32')\n",
    "    # original K.sqrt(K.mean(K.square(y_true - y_pred)))\n",
    "    loss = K.sqrt(\n",
    "            K.mean(\n",
    "                    K.sum(\n",
    "                            K.square(y_true - y_pred) * A_i,\n",
    "                            axis=(1,2,3)\n",
    "                         )\n",
    "                    /\n",
    "                    K.sum(A_i, axis=(1,2,3))\n",
    "                  )\n",
    "            )\n",
    "    lower_boundary = K.less(y_pred, 0)\n",
    "    lower_boundary = K.cast(lower_boundary, dtype='float32')\n",
    "    upper_boundary = K.greater(y_pred, 65535)\n",
    "    upper_boundary = K.cast(upper_boundary, dtype='float32')\n",
    "    interval_loss = K.sum(lower_boundary * 10000 + upper_boundary * 10000)   \n",
    "    return loss+interval_loss\n",
    "\n",
    "\n",
    "def Masked_Root_Mean_Squared_Error_Sigmoid(y_true, y_pred):\n",
    "    '''Masked root mean squared error custom loss function'''\n",
    "    # create binary artifact maps from ground truth depth maps\n",
    "    A_i = K.greater(y_true, 0)\n",
    "    A_i = K.cast(A_i, dtype='float32')\n",
    "    # Since we are using a sigmoid activation function, scale the predictions from [0,1] to [0,65535]\n",
    "    y_pred = y_pred * 65535\n",
    "    # original K.sqrt(K.mean(K.square(y_true - y_pred)))\n",
    "    loss = K.sqrt(\n",
    "            K.mean(\n",
    "                    K.sum(\n",
    "                            K.square(y_true - y_pred) * A_i,\n",
    "                            axis=(1,2,3)\n",
    "                         )\n",
    "                    /\n",
    "                    K.sum(A_i, axis=(1,2,3))\n",
    "                  )\n",
    "            )\n",
    "    lower_boundary = K.less(y_pred, 0)\n",
    "    lower_boundary = K.cast(lower_boundary, dtype='float32')\n",
    "    upper_boundary = K.greater(y_pred, 65535)\n",
    "    upper_boundary = K.cast(upper_boundary, dtype='float32')\n",
    "    interval_loss = K.sum(lower_boundary * 10000 + upper_boundary * 10000)   \n",
    "    return loss+interval_loss\n",
    "\n",
    "\n",
    "def Masked_Root_Mean_Squared_Error_Simple(y_true, y_pred):\n",
    "    '''Masked root mean squared error custom loss function'''\n",
    "    # create binary artifact maps from ground truth depth maps\n",
    "    A_i = K.greater(y_true, 0)\n",
    "    A_i = K.cast(A_i, dtype='float32')\n",
    "    # original K.sqrt(K.mean(K.square(y_true - y_pred)))\n",
    "    loss = K.sqrt(\n",
    "            K.mean(\n",
    "                    K.sum(\n",
    "                            K.square(y_true - y_pred) * A_i,\n",
    "                            axis=(1,2,3)\n",
    "                         )\n",
    "                    /\n",
    "                    K.sum(A_i, axis=(1,2,3))\n",
    "                  )\n",
    "            ) \n",
    "    return loss\n",
    "\n",
    "\n",
    "def Masked_Root_Mean_Squared_Error_Simple_Sigmoid(y_true, y_pred):\n",
    "    '''Masked root mean squared error custom loss function'''\n",
    "    # create binary artifact maps from ground truth depth maps\n",
    "    A_i = K.greater(y_true, 0)\n",
    "    A_i = K.cast(A_i, dtype='float32')\n",
    "    # Since we are using a sigmoid activation function, scale the predictions from [0,1] to [0,65535]\n",
    "    y_pred = y_pred * 65535\n",
    "    # original K.sqrt(K.mean(K.square(y_true - y_pred)))\n",
    "    loss = K.sqrt(\n",
    "            K.mean(\n",
    "                    K.sum(\n",
    "                            K.square(y_true - y_pred) * A_i,\n",
    "                            axis=(1,2,3)\n",
    "                         )\n",
    "                    /\n",
    "                    K.sum(A_i, axis=(1,2,3))\n",
    "                  )\n",
    "            ) \n",
    "    return loss\n",
    "\n",
    "\n",
    "def berHu(c):\n",
    "    '''Reverse Huber loss as stated in paper \"Deeper Depth Prediction with Fully Convolutional Residual Networks\" by Laina et al. and \"The berhu\n",
    "       penalty and the grouped effect\" by L. Zwald and S. Lambert-Lacroix'''\n",
    "    # does this current implementation makes sense? --> yes, it returns mae or mse\n",
    "    # TODO implement this with binary mask too?\n",
    "    def inverse_huber(y_true, y_pred):\n",
    "        threshold = c * K.max(K.abs(y_true - y_pred))\n",
    "        absolute_mean = K.mean(K.abs(y_true - y_pred))\n",
    "        mask = K.less_equal(absolute_mean, threshold)\n",
    "        mask = K.cast(mask, dtype='float32')\n",
    "        return mask * absolute_mean + (1-mask) * K.mean(K.square(K.abs(y_true - y_pred)))\n",
    "    return inverse_huber\n",
    "\n",
    "model = load_model(path_model, custom_objects={'Masked_Mean_Absolute_Error_Simple': Masked_Mean_Absolute_Error, \n",
    "                                                        'Masked_Mean_Absolute_Error':Masked_Mean_Absolute_Error,\n",
    "                                                        'Masked_Mean_Absolute_Error_Simple':Masked_Mean_Absolute_Error_Simple, \n",
    "                                                        'Masked_Mean_Absolute_Error_Simple_Sigmoid':Masked_Mean_Absolute_Error_Simple_Sigmoid,\n",
    "                                                        'Masked_Mean_Absolute_Error_Sigmoid':Masked_Mean_Absolute_Error_Sigmoid,\n",
    "                                                        'Masked_Root_Mean_Squared_Error':Masked_Root_Mean_Squared_Error,\n",
    "                                                        'Masked_Root_Mean_Squared_Error_Simple':Masked_Root_Mean_Squared_Error_Simple,\n",
    "                                                        'Masked_Root_Mean_Squared_Error_Simple_Sigmoid':Masked_Root_Mean_Squared_Error_Simple_Sigmoid,\n",
    "                                                        'Masked_Root_Mean_Squared_Error_Sigmoid':Masked_Root_Mean_Squared_Error_Sigmoid,\n",
    "                                                        'inverse_huber':berHu(0.2)})"
   ]
  },
  {
   "cell_type": "markdown",
   "metadata": {},
   "source": [
    "## Load all test images"
   ]
  },
  {
   "cell_type": "code",
   "execution_count": 72,
   "metadata": {},
   "outputs": [],
   "source": [
    "available_files = os.listdir(os.path.join(path_test, 'Cloudy', 'Color'))\n",
    "files = [Path(file).stem for file in available_files if Path(file).suffix == '.jpg']"
   ]
  },
  {
   "cell_type": "code",
   "execution_count": 37,
   "metadata": {},
   "outputs": [],
   "source": [
    "depth = cv2.imread(os.path.join(path_test, 'Cloudy', 'Depth', files[1]+'.png'), cv2.IMREAD_ANYDEPTH)\n",
    "color = cv2.imread(os.path.join(path_test, 'Cloudy', 'Color', files[1]+'.jpg'), cv2.IMREAD_COLOR)\n",
    "color = cv2.cvtColor(color, cv2.COLOR_BGR2RGB)\n",
    "color = (color/255.).astype(np.float32)\n",
    "infrared = cv2.imread(os.path.join(path_test, 'Cloudy', 'Infrared', files[1]+'.png'), cv2.IMREAD_ANYDEPTH)\n",
    "infrared = (infrared/65535.).astype(np.float32)\n",
    "prediction = model.predict([color.reshape(1, 480, 640, 3), infrared.reshape(1, 480, 640, 1)])"
   ]
  },
  {
   "cell_type": "code",
   "execution_count": 40,
   "metadata": {},
   "outputs": [
    {
     "data": {
      "image/png": "[encoded data removed]",
      "text/plain": [
       "<matplotlib.figure.Figure at 0x17cbb150a90>"
      ]
     },
     "metadata": {},
     "output_type": "display_data"
    }
   ],
   "source": [
    "%matplotlib inline\n",
    "prediction = prediction.reshape(480,640)\n",
    "hist, edges = np.histogram(prediction, 150, (np.amin(prediction), np.amax(prediction)))\n",
    "plt.plot(edges[0:-1], hist)\n",
    "axs = plt.gca()\n",
    "axs.set_yscale('log')\n",
    "#plt.imshow(infrared, cmap=\"gray\")\n",
    "#plt.show()"
   ]
  },
  {
   "cell_type": "code",
   "execution_count": 73,
   "metadata": {},
   "outputs": [
    {
     "data": {
      "application/vnd.jupyter.widget-view+json": {
       "model_id": "0b13acd48d7641ca9280e44335e55ece",
       "version_major": 2,
       "version_minor": 0
      },
      "text/html": [
       "<p>Failed to display Jupyter Widget of type <code>HBox</code>.</p>\n",
       "<p>\n",
       "  If you're reading this message in the Jupyter Notebook or JupyterLab Notebook, it may mean\n",
       "  that the widgets JavaScript is still loading. If this message persists, it\n",
       "  likely means that the widgets JavaScript library is either not installed or\n",
       "  not enabled. See the <a href=\"https://ipywidgets.readthedocs.io/en/stable/user_install.html\">Jupyter\n",
       "  Widgets Documentation</a> for setup instructions.\n",
       "</p>\n",
       "<p>\n",
       "  If you're reading this message in another frontend (for example, a static\n",
       "  rendering on GitHub or <a href=\"https://nbviewer.jupyter.org/\">NBViewer</a>),\n",
       "  it may mean that your frontend doesn't currently support widgets.\n",
       "</p>\n"
      ],
      "text/plain": [
       "HBox(children=(IntProgress(value=0, max=1367), HTML(value='')))"
      ]
     },
     "metadata": {},
     "output_type": "display_data"
    },
    {
     "name": "stdout",
     "output_type": "stream",
     "text": [
      "\n"
     ]
    }
   ],
   "source": [
    "ground_truth = []\n",
    "predictions = []\n",
    "colors = []\n",
    "infrareds = []\n",
    "for file in tqdm(files):\n",
    "    depth = cv2.imread(os.path.join(path_test, 'Cloudy', 'Depth', file+'.png'), cv2.IMREAD_ANYDEPTH)\n",
    "    color = cv2.imread(os.path.join(path_test, 'Cloudy', 'Color', file+'.jpg'), cv2.IMREAD_COLOR)\n",
    "    colors.append(color)\n",
    "    color = cv2.cvtColor(color, cv2.COLOR_BGR2RGB)\n",
    "    color = (color/255.).astype(np.float32)\n",
    "    infrared = cv2.imread(os.path.join(path_test, 'Cloudy', 'Infrared', file+'.png'), cv2.IMREAD_ANYDEPTH)\n",
    "    infrareds.append(infrared)\n",
    "    infrared = (infrared/65535.).astype(np.float32)\n",
    "    prediction = model.predict([color.reshape(1, 480, 640, 3), infrared.reshape(1, 480, 640, 1)])\n",
    "    ground_truth.append(depth)\n",
    "    predictions.append(prediction.reshape(480,640))\n",
    "ground_truth = np.asarray(ground_truth, dtype=np.uint16)\n",
    "predictions = np.asarray(predictions, dtype=np.float32)\n",
    "colors = np.asarray(colors, dtype=np.uint8)\n",
    "infrareds = np.asarray(infrareds, dtype=np.uint16)"
   ]
  },
  {
   "cell_type": "code",
   "execution_count": 76,
   "metadata": {},
   "outputs": [],
   "source": [
    "hist, edges = np.histogram(np.clip(predictions, 0, 65535), 150, (0,65535))#(np.amin(predictions), np.amax(predictions)))\n",
    "hist_g, edges_g = np.histogram(ground_truth, 150, (0,65535))"
   ]
  },
  {
   "cell_type": "code",
   "execution_count": 74,
   "metadata": {},
   "outputs": [],
   "source": [
    "with open(os.path.join(path_write, 'cloudy_predictions.p'), 'wb') as file:\n",
    "    pickle.dump(predictions, file)\n",
    "with open(os.path.join(path_write, 'cloudy_ground_truth.p'), 'wb') as file:\n",
    "    pickle.dump(ground_truth, file)\n",
    "with open(os.path.join(path_write, 'cloudy_color.p'), 'wb') as file:\n",
    "    pickle.dump(colors, file)\n",
    "with open(os.path.join(path_write, 'clouy_infrared.p'), 'wb') as file:\n",
    "    pickle.dump(infrareds, file)"
   ]
  },
  {
   "cell_type": "code",
   "execution_count": 15,
   "metadata": {},
   "outputs": [],
   "source": [
    "with open(os.path.join(path_write, 'night_predictions.p'), 'rb') as file:\n",
    "    predictions = pickle.load(file)\n",
    "with open(os.path.join(path_write, 'night_ground_truth.p'), 'rb') as file:\n",
    "    ground_truth = pickle.load(file)"
   ]
  },
  {
   "cell_type": "code",
   "execution_count": 16,
   "metadata": {},
   "outputs": [],
   "source": [
    "hist, edges = np.histogram(predictions, 150, (np.amin(predictions), np.amax(predictions)))\n",
    "hist_g, edges_g = np.histogram(ground_truth, 150, (0,65535))"
   ]
  },
  {
   "cell_type": "code",
   "execution_count": 17,
   "metadata": {},
   "outputs": [
    {
     "data": {
      "image/png": "[encoded data removed]",
      "text/plain": [
       "<matplotlib.figure.Figure at 0x1760a3104e0>"
      ]
     },
     "metadata": {},
     "output_type": "display_data"
    }
   ],
   "source": [
    "plt.style.use(\"ggplot\")\n",
    "fig, axs = plt.subplots(1)\n",
    "axs.plot(edges[0:-1], hist, label='Prediction')\n",
    "axs.plot(edges_g[0:-1], hist_g, label='Ground Truth')\n",
    "axs.set_yscale('log')\n",
    "axs.set_title('Depth Distribution Differences Night Dataset')\n",
    "axs.set_xlabel('Pixel Intensity')\n",
    "axs.set_ylabel('Occurences')\n",
    "plt.legend()\n",
    "plt.tight_layout()\n",
    "plt.savefig('depth_distribution_night_no_clip.png', dpi=300, bbox_inches='tight')"
   ]
  },
  {
   "cell_type": "code",
   "execution_count": 8,
   "metadata": {},
   "outputs": [],
   "source": [
    "depth_intervals = (np.amin(depth_images), np.amax(depth_images))"
   ]
  },
  {
   "cell_type": "code",
   "execution_count": 9,
   "metadata": {},
   "outputs": [
    {
     "data": {
      "text/plain": [
       "(0, 32760)"
      ]
     },
     "execution_count": 9,
     "metadata": {},
     "output_type": "execute_result"
    }
   ],
   "source": [
    "depth_intervals"
   ]
  },
  {
   "cell_type": "code",
   "execution_count": null,
   "metadata": {},
   "outputs": [],
   "source": []
  }
 ],
 "metadata": {
  "kernelspec": {
   "display_name": "Python 3",
   "language": "python",
   "name": "python3"
  },
  "language_info": {
   "codemirror_mode": {
    "name": "ipython",
    "version": 3
   },
   "file_extension": ".py",
   "mimetype": "text/x-python",
   "name": "python",
   "nbconvert_exporter": "python",
   "pygments_lexer": "ipython3",
   "version": "3.6.4"
  }
 },
 "nbformat": 4,
 "nbformat_minor": 2
}
