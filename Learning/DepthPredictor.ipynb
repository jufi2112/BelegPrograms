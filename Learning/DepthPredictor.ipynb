{
 "cells": [
  {
   "cell_type": "markdown",
   "metadata": {},
   "source": [
    "# Depth Predictor\n",
    "This code will take color and infrared images as input and predict a depth image. Additionally to the raw depth output, a colorized version will be displayed. Optionally, the ground truth depth image (if given) will be displayed."
   ]
  },
  {
   "cell_type": "markdown",
   "metadata": {},
   "source": [
    "## Import Necessary Modules"
   ]
  },
  {
   "cell_type": "code",
   "execution_count": 1,
   "metadata": {},
   "outputs": [
    {
     "name": "stderr",
     "output_type": "stream",
     "text": [
      "Using TensorFlow backend.\n",
      "/home/julien/anaconda3/envs/mlenv/lib/python3.6/site-packages/tensorflow/python/framework/dtypes.py:516: FutureWarning: Passing (type, 1) or '1type' as a synonym of type is deprecated; in a future version of numpy, it will be understood as (type, (1,)) / '(1,)type'.\n",
      "  _np_qint8 = np.dtype([(\"qint8\", np.int8, 1)])\n",
      "/home/julien/anaconda3/envs/mlenv/lib/python3.6/site-packages/tensorflow/python/framework/dtypes.py:517: FutureWarning: Passing (type, 1) or '1type' as a synonym of type is deprecated; in a future version of numpy, it will be understood as (type, (1,)) / '(1,)type'.\n",
      "  _np_quint8 = np.dtype([(\"quint8\", np.uint8, 1)])\n",
      "/home/julien/anaconda3/envs/mlenv/lib/python3.6/site-packages/tensorflow/python/framework/dtypes.py:518: FutureWarning: Passing (type, 1) or '1type' as a synonym of type is deprecated; in a future version of numpy, it will be understood as (type, (1,)) / '(1,)type'.\n",
      "  _np_qint16 = np.dtype([(\"qint16\", np.int16, 1)])\n",
      "/home/julien/anaconda3/envs/mlenv/lib/python3.6/site-packages/tensorflow/python/framework/dtypes.py:519: FutureWarning: Passing (type, 1) or '1type' as a synonym of type is deprecated; in a future version of numpy, it will be understood as (type, (1,)) / '(1,)type'.\n",
      "  _np_quint16 = np.dtype([(\"quint16\", np.uint16, 1)])\n",
      "/home/julien/anaconda3/envs/mlenv/lib/python3.6/site-packages/tensorflow/python/framework/dtypes.py:520: FutureWarning: Passing (type, 1) or '1type' as a synonym of type is deprecated; in a future version of numpy, it will be understood as (type, (1,)) / '(1,)type'.\n",
      "  _np_qint32 = np.dtype([(\"qint32\", np.int32, 1)])\n",
      "/home/julien/anaconda3/envs/mlenv/lib/python3.6/site-packages/tensorflow/python/framework/dtypes.py:525: FutureWarning: Passing (type, 1) or '1type' as a synonym of type is deprecated; in a future version of numpy, it will be understood as (type, (1,)) / '(1,)type'.\n",
      "  np_resource = np.dtype([(\"resource\", np.ubyte, 1)])\n",
      "/home/julien/anaconda3/envs/mlenv/lib/python3.6/site-packages/tensorboard/compat/tensorflow_stub/dtypes.py:541: FutureWarning: Passing (type, 1) or '1type' as a synonym of type is deprecated; in a future version of numpy, it will be understood as (type, (1,)) / '(1,)type'.\n",
      "  _np_qint8 = np.dtype([(\"qint8\", np.int8, 1)])\n",
      "/home/julien/anaconda3/envs/mlenv/lib/python3.6/site-packages/tensorboard/compat/tensorflow_stub/dtypes.py:542: FutureWarning: Passing (type, 1) or '1type' as a synonym of type is deprecated; in a future version of numpy, it will be understood as (type, (1,)) / '(1,)type'.\n",
      "  _np_quint8 = np.dtype([(\"quint8\", np.uint8, 1)])\n",
      "/home/julien/anaconda3/envs/mlenv/lib/python3.6/site-packages/tensorboard/compat/tensorflow_stub/dtypes.py:543: FutureWarning: Passing (type, 1) or '1type' as a synonym of type is deprecated; in a future version of numpy, it will be understood as (type, (1,)) / '(1,)type'.\n",
      "  _np_qint16 = np.dtype([(\"qint16\", np.int16, 1)])\n",
      "/home/julien/anaconda3/envs/mlenv/lib/python3.6/site-packages/tensorboard/compat/tensorflow_stub/dtypes.py:544: FutureWarning: Passing (type, 1) or '1type' as a synonym of type is deprecated; in a future version of numpy, it will be understood as (type, (1,)) / '(1,)type'.\n",
      "  _np_quint16 = np.dtype([(\"quint16\", np.uint16, 1)])\n",
      "/home/julien/anaconda3/envs/mlenv/lib/python3.6/site-packages/tensorboard/compat/tensorflow_stub/dtypes.py:545: FutureWarning: Passing (type, 1) or '1type' as a synonym of type is deprecated; in a future version of numpy, it will be understood as (type, (1,)) / '(1,)type'.\n",
      "  _np_qint32 = np.dtype([(\"qint32\", np.int32, 1)])\n",
      "/home/julien/anaconda3/envs/mlenv/lib/python3.6/site-packages/tensorboard/compat/tensorflow_stub/dtypes.py:550: FutureWarning: Passing (type, 1) or '1type' as a synonym of type is deprecated; in a future version of numpy, it will be understood as (type, (1,)) / '(1,)type'.\n",
      "  np_resource = np.dtype([(\"resource\", np.ubyte, 1)])\n"
     ]
    }
   ],
   "source": [
    "import os\n",
    "from keras.models import load_model\n",
    "import cv2\n",
    "from pathlib import Path\n",
    "import numpy as np\n",
    "import matplotlib.pyplot as plt"
   ]
  },
  {
   "cell_type": "markdown",
   "metadata": {},
   "source": [
    "## Class that holds color, infrared and depth image"
   ]
  },
  {
   "cell_type": "code",
   "execution_count": 2,
   "metadata": {},
   "outputs": [],
   "source": [
    "class ImageSet:\n",
    "    def __init__(self, Color, Infrared, Depth):\n",
    "        self.Color = Color\n",
    "        self.Infrared = Infrared\n",
    "        self.Depth = Depth"
   ]
  },
  {
   "cell_type": "markdown",
   "metadata": {},
   "source": [
    "## The Predictor Class itself\n",
    "If a number of images should be predicted, they should be placed in a folder with following structure:\n",
    "<pre>\n",
    "MainFolder\n",
    "|-- Color\n",
    "    |-- 1.jpg\n",
    "    |-- 2.jpg\n",
    "|-- Infrared\n",
    "    |-- 1.png\n",
    "    |-- 2.png\n",
    "|-- Depth\n",
    "    |-- 1.png\n",
    "    |-- 2.png\n",
    "</pre>"
   ]
  },
  {
   "cell_type": "code",
   "execution_count": 10,
   "metadata": {},
   "outputs": [],
   "source": [
    "class DepthPredictor:\n",
    "    def __init__(self, path_to_model):\n",
    "        self.images = []\n",
    "        self.model = self.__load_model(path_to_model)\n",
    "        \n",
    "    def __load_model(self, path):\n",
    "        if os.path.isfile(path):\n",
    "            return load_model(path)\n",
    "        else:\n",
    "            print('Unable to load specified model: No such file!')\n",
    "            return None\n",
    "        \n",
    "    def LoadImages(self, path_to_images=None, color=None, infrared=None, depth=None, additive_load=False):\n",
    "        if not additive_load:\n",
    "            self.images = []\n",
    "        \n",
    "        if path_to_images is None:\n",
    "            # single image prediction\n",
    "            if os.path.isfile(color) and os.path.isfile(infrared):\n",
    "                img_c = cv2.imread(color, cv2.IMREAD_COLOR)\n",
    "                img_c = cv2.cvtColor(img_c, cv2.COLOR_BGR2RGB)\n",
    "                #img_c = (img_c/255.).astype(np.float32)\n",
    "                img_i = cv2.imread(infrared, cv2.IMREAD_ANYDEPTH)\n",
    "                #img_i = (img_i/65535.).astype(np.float32)\n",
    "                img_d = None\n",
    "                if depth is not None and os.path.isfile(depth):\n",
    "                    img_d = cv2.imread(depth, cv2.IMREAD_ANYDEPTH)\n",
    "                    \n",
    "                self.images.append(ImageSet(img_c, img_i, img_d))\n",
    "                \n",
    "        else:\n",
    "            # multi image prediction\n",
    "            if os.path.isdir(path_to_images):\n",
    "                path_color = os.path.join(path_to_images, 'Color')\n",
    "                path_infrared = os.path.join(path_to_images, 'Infrared')\n",
    "                path_depth = os.path.join(path_to_images, 'Depth')\n",
    "                \n",
    "                if os.path.isdir(path_color) and os.path.isdir(path_infrared):\n",
    "                    available_files = os.listdir(path_color)\n",
    "                    files = [file for file in available_files if Path(file).suffix == '.jpg']\n",
    "                    for file in files:\n",
    "                        file_name = Path(file).stem\n",
    "                        img_c = cv2.imread(os.path.join(path_color,file), cv2.IMREAD_COLOR)\n",
    "                        img_c = cv2.cvtColor(img_c, cv2.COLOR_BGR2RGB)\n",
    "                        #img_c = (img_c/255.).astype(np.float32)\n",
    "                        img_i = cv2.imread(os.path.join(path_infrared, file_name + '.png'), cv2.IMREAD_ANYDEPTH)\n",
    "                        #img_i = (img_i/65535.).astype(np.float32)\n",
    "                        img_d = None\n",
    "                        \n",
    "                        if os.path.isdir(path_depth):\n",
    "                            img_d = cv2.imread(os.path.join(path_depth, file_name + '.png'), cv2.IMREAD_ANYDEPTH)\n",
    "                        \n",
    "                        self.images.append(ImageSet(img_c, img_i, img_d))\n",
    "        return len(self.images)\n",
    "    \n",
    "    def __colorize(self, d1, d2, color_scheme=2):\n",
    "        \n",
    "        n1 = np.zeros(d1.shape, dtype=np.uint16)\n",
    "        n1 = cv2.normalize(d1, n1, 0, 65535, cv2.NORM_MINMAX)\n",
    "        n1 = 255 - (n1/256.).astype(np.uint8)\n",
    "        n1 = cv2.equalizeHist(n1)\n",
    "        n1 = cv2.applyColorMap(n1, color_scheme)\n",
    "        n2 = None\n",
    "        \n",
    "        if d2 is not None:\n",
    "            n2 = np.zeros(d2.shape, dtype=np.uint16)\n",
    "            n2 = cv2.normalize(d2, n2, 0, 65535, cv2.NORM_MINMAX)     \n",
    "            n2 = 255 - (n2/256.).astype(np.uint8)\n",
    "            n2 = cv2.equalizeHist(n2)       \n",
    "            n2 = cv2.applyColorMap(n2, color_scheme)\n",
    "            \n",
    "        \n",
    "        return n1, n2\n",
    "        \n",
    "    \n",
    "    def PredictImages(self, visualization_mode='normalize'):\n",
    "        list_images = []\n",
    "        for imgset in self.images:\n",
    "            img_c = imgset.Color\n",
    "            img_i = imgset.Infrared\n",
    "            img_d = imgset.Depth\n",
    "            \n",
    "            depth_pred = self.model.predict([(img_c.reshape(1,480,640,3)/255.).astype(np.float32), (img_i.reshape(1, 480, 640, 1)/65535.).astype(np.float32)])\n",
    "            \n",
    "            depth_pred = depth_pred.reshape(480,640).astype(np.uint16)\n",
    "            color_pred, color_ground = self.__colorize(depth_pred, img_d)\n",
    "            \n",
    "            # normalize depth image for visualization\n",
    "            if visualization_mode == 'normalize':\n",
    "                pred_norm = np.zeros(depth_pred.shape, dtype=np.uint16)\n",
    "                pred_norm = cv2.normalize(depth_pred, pred_norm, 0, 65535, cv2.NORM_MINMAX)\n",
    "                pred_norm = (pred_norm/256.).astype(np.uint8)\n",
    "            elif visualization_mode == 'histogram':\n",
    "                pred_norm = (depth_pred/256.).astype(np.uint8)\n",
    "                pred_norm = cv2.equalizeHist(pred_norm)\n",
    "            \n",
    "            img_pred = np.concatenate((cv2.cvtColor(pred_norm, cv2.COLOR_GRAY2BGR), color_pred), axis=0)\n",
    "            img = img_pred\n",
    "            \n",
    "            if img_d is not None:\n",
    "                # normalize depth image for visualization\n",
    "                if visualization_mode == 'normalize':\n",
    "                    ground_norm = np.zeros(img_d.shape, dtype=np.uint16)\n",
    "                    ground_norm = cv2.normalize(img_d, ground_norm, 0, 65535, cv2.NORM_MINMAX)\n",
    "                    ground_norm = (ground_norm/256.).astype(np.uint8)\n",
    "                elif visualization_mode == 'histogram':\n",
    "                    ground_norm = (img_d/256.).astype(np.uint8)\n",
    "                    ground_norm = cv2.equalizeHist(ground_norm)\n",
    "                \n",
    "                img_ground = np.concatenate((cv2.cvtColor(ground_norm, cv2.COLOR_GRAY2BGR), color_ground), axis=0)\n",
    "                img = np.concatenate((img_pred, img_ground), axis=1)\n",
    "                \n",
    "            list_images.append(img)\n",
    "        return list_images\n",
    "            \n",
    "            \n",
    "            "
   ]
  },
  {
   "cell_type": "code",
   "execution_count": 11,
   "metadata": {},
   "outputs": [],
   "source": [
    "# model lies in /home/julien/Dokumente/Beleg/calculations\n",
    "path = os.path.join('/home','julien','Dokumente','Beleg','calculations')\n",
    "\n",
    "dp = DepthPredictor(os.path.join(path, 'model.h5'))"
   ]
  },
  {
   "cell_type": "code",
   "execution_count": 12,
   "metadata": {},
   "outputs": [
    {
     "data": {
      "text/plain": [
       "7"
      ]
     },
     "execution_count": 12,
     "metadata": {},
     "output_type": "execute_result"
    }
   ],
   "source": [
    "dp.LoadImages(path_to_images='/home/julien/Dokumente/Beleg/predict')"
   ]
  },
  {
   "cell_type": "code",
   "execution_count": 13,
   "metadata": {},
   "outputs": [],
   "source": [
    "x = dp.PredictImages(visualization_mode='histogram')"
   ]
  },
  {
   "cell_type": "code",
   "execution_count": 14,
   "metadata": {},
   "outputs": [
    {
     "name": "stdout",
     "output_type": "stream",
     "text": [
      "7\n"
     ]
    }
   ],
   "source": [
    "print(len(x))"
   ]
  },
  {
   "cell_type": "code",
   "execution_count": 15,
   "metadata": {},
   "outputs": [
    {
     "name": "stdout",
     "output_type": "stream",
     "text": [
      "uint8\n"
     ]
    }
   ],
   "source": [
    "print(x[0].dtype)"
   ]
  },
  {
   "cell_type": "code",
   "execution_count": 16,
   "metadata": {},
   "outputs": [
    {
     "data": {
      "image/png": "[encoded data removed]",
      "text/plain": [
       "<Figure size 432x288 with 1 Axes>"
      ]
     },
     "metadata": {
      "needs_background": "light"
     },
     "output_type": "display_data"
    },
    {
     "data": {
      "text/plain": [
       "True"
      ]
     },
     "execution_count": 16,
     "metadata": {},
     "output_type": "execute_result"
    }
   ],
   "source": [
    "%matplotlib inline\n",
    "plt.imshow(cv2.cvtColor(x[0], cv2.COLOR_BGR2RGB))\n",
    "plt.show()\n",
    "cv2.imwrite('prediction.jpg', x[0])"
   ]
  },
  {
   "cell_type": "code",
   "execution_count": 19,
   "metadata": {},
   "outputs": [],
   "source": [
    "model = load_model('/home/julien/Dokumente/Beleg/calculations/model.h5')"
   ]
  },
  {
   "cell_type": "code",
   "execution_count": 20,
   "metadata": {},
   "outputs": [
    {
     "name": "stdout",
     "output_type": "stream",
     "text": [
      "(480, 640, 3)\n",
      "(480, 640)\n"
     ]
    }
   ],
   "source": [
    "c = cv2.imread('/home/julien/Dokumente/Beleg/predict/Color/1.jpg', cv2.IMREAD_COLOR)\n",
    "c = cv2.cvtColor(c, cv2.COLOR_BGR2RGB)\n",
    "print(c.shape)\n",
    "c = (c/255).astype(np.float32)\n",
    "i = cv2.imread('/home/julien/Dokumente/Beleg/predict/Infrared/1.png', cv2.IMREAD_ANYDEPTH)\n",
    "print(i.shape)\n",
    "i = (i/65535).astype(np.float32)\n",
    "\n"
   ]
  },
  {
   "cell_type": "code",
   "execution_count": 21,
   "metadata": {},
   "outputs": [],
   "source": [
    "y = model.predict([c.reshape(1,480,640,3), i.reshape(1,480,640,1)])"
   ]
  },
  {
   "cell_type": "code",
   "execution_count": 22,
   "metadata": {},
   "outputs": [
    {
     "name": "stdout",
     "output_type": "stream",
     "text": [
      "float32\n",
      "(1, 480, 640, 1)\n"
     ]
    }
   ],
   "source": [
    "print(y.dtype)\n",
    "print(y.shape)"
   ]
  },
  {
   "cell_type": "code",
   "execution_count": 23,
   "metadata": {},
   "outputs": [
    {
     "name": "stdout",
     "output_type": "stream",
     "text": [
      "[[[[ 207.80609 ]\n",
      "   [ 273.73483 ]\n",
      "   [ 189.12093 ]\n",
      "   ...\n",
      "   [ 599.5846  ]\n",
      "   [ 550.18097 ]\n",
      "   [ 342.4792  ]]\n",
      "\n",
      "  [[ 306.40836 ]\n",
      "   [ 396.53366 ]\n",
      "   [ 280.3085  ]\n",
      "   ...\n",
      "   [ 451.09375 ]\n",
      "   [ 450.67078 ]\n",
      "   [ 297.7973  ]]\n",
      "\n",
      "  [[  69.882034]\n",
      "   [ 157.48546 ]\n",
      "   [ 188.91634 ]\n",
      "   ...\n",
      "   [ 765.8327  ]\n",
      "   [ 405.687   ]\n",
      "   [ 187.9987  ]]\n",
      "\n",
      "  ...\n",
      "\n",
      "  [[ 118.31966 ]\n",
      "   [ 181.48906 ]\n",
      "   [ 247.37285 ]\n",
      "   ...\n",
      "   [3005.4673  ]\n",
      "   [1811.4524  ]\n",
      "   [ 751.4243  ]]\n",
      "\n",
      "  [[ -76.50899 ]\n",
      "   [  -6.790967]\n",
      "   [ 159.09459 ]\n",
      "   ...\n",
      "   [2526.9233  ]\n",
      "   [1410.2195  ]\n",
      "   [ 466.56665 ]]\n",
      "\n",
      "  [[  33.735035]\n",
      "   [  74.64757 ]\n",
      "   [ 143.45723 ]\n",
      "   ...\n",
      "   [1385.9131  ]\n",
      "   [ 629.48706 ]\n",
      "   [ 118.7318  ]]]]\n"
     ]
    }
   ],
   "source": [
    "print(y)"
   ]
  },
  {
   "cell_type": "code",
   "execution_count": null,
   "metadata": {},
   "outputs": [],
   "source": [
    "%matplotlib inline\n",
    "plt.imshow(y.reshape(480,640), cmap=\"gray\")\n",
    "plt.show()"
   ]
  },
  {
   "cell_type": "code",
   "execution_count": null,
   "metadata": {},
   "outputs": [],
   "source": []
  }
 ],
 "metadata": {
  "kernelspec": {
   "display_name": "Python 3",
   "language": "python",
   "name": "python3"
  },
  "language_info": {
   "codemirror_mode": {
    "name": "ipython",
    "version": 3
   },
   "file_extension": ".py",
   "mimetype": "text/x-python",
   "name": "python",
   "nbconvert_exporter": "python",
   "pygments_lexer": "ipython3",
   "version": "3.6.9"
  }
 },
 "nbformat": 4,
 "nbformat_minor": 2
}
