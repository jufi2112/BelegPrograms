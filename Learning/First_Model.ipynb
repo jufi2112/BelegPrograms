{
 "cells": [
  {
   "cell_type": "code",
   "execution_count": 3,
   "metadata": {},
   "outputs": [
    {
     "name": "stderr",
     "output_type": "stream",
     "text": [
      "Using TensorFlow backend.\n"
     ]
    }
   ],
   "source": [
    "from keras.models import Model\n",
    "from keras.layers import Input, Conv2D, Activation, BatchNormalization, Dropout, concatenate, Conv2DTranspose\n",
    "from keras.preprocessing.image import ImageDataGenerator\n",
    "import numpy as np\n",
    "import matplotlib.pyplot as plt"
   ]
  },
  {
   "cell_type": "code",
   "execution_count": 4,
   "metadata": {},
   "outputs": [
    {
     "name": "stderr",
     "output_type": "stream",
     "text": [
      "WARNING: Logging before flag parsing goes to stderr.\n",
      "W0913 15:17:51.308677 140074136270656 deprecation_wrapper.py:119] From /home/julien/anaconda3/envs/mlenv/lib/python3.6/site-packages/keras/backend/tensorflow_backend.py:517: The name tf.placeholder is deprecated. Please use tf.compat.v1.placeholder instead.\n",
      "\n",
      "W0913 15:17:51.323953 140074136270656 deprecation_wrapper.py:119] From /home/julien/anaconda3/envs/mlenv/lib/python3.6/site-packages/keras/backend/tensorflow_backend.py:4138: The name tf.random_uniform is deprecated. Please use tf.random.uniform instead.\n",
      "\n",
      "W0913 15:17:51.356820 140074136270656 deprecation_wrapper.py:119] From /home/julien/anaconda3/envs/mlenv/lib/python3.6/site-packages/keras/backend/tensorflow_backend.py:74: The name tf.get_default_graph is deprecated. Please use tf.compat.v1.get_default_graph instead.\n",
      "\n",
      "W0913 15:17:51.466665 140074136270656 deprecation_wrapper.py:119] From /home/julien/anaconda3/envs/mlenv/lib/python3.6/site-packages/keras/optimizers.py:790: The name tf.train.Optimizer is deprecated. Please use tf.compat.v1.train.Optimizer instead.\n",
      "\n"
     ]
    }
   ],
   "source": [
    "input_color = Input(shape=(256,256,3), name=\"Color_Input\")\n",
    "input_ir = Input(shape=(256,256,1), name=\"IR_Input\")\n",
    "\n",
    "# Color branch\n",
    "x = Conv2D(256, (5,5), strides=(2,2), padding=\"same\", activation=\"relu\", name=\"Color_Conv2D_1\")(input_color)\n",
    "x = Conv2D(128, (3,3), strides=(2,2), padding=\"same\", activation=\"relu\", name=\"Color_Conv2D_2\")(x)\n",
    "x = Model(inputs=input_color, outputs=x)\n",
    "\n",
    "# IR branch\n",
    "y = Conv2D(256, (5,5), strides=(2,2), padding=\"same\", activation=\"relu\", name=\"IR_Conv2D_1\")(input_ir)\n",
    "y = Conv2D(128, (3,3), strides=(2,2), padding=\"same\", activation=\"relu\", name=\"IR_Conv2D_2\")(y)\n",
    "y = Model(inputs=input_ir, outputs=y)\n",
    "\n",
    "# combine both branches\n",
    "combined = concatenate([x.output, y.output], name=\"Concat\")\n",
    "\n",
    "z = Conv2D(64, (3,3), strides=(1,1), padding=\"same\", activation=\"relu\", name=\"Comb_Conv2D_1\")(combined)\n",
    "z = Conv2DTranspose(128, kernel_size=(3,3), strides=(2,2), padding=\"same\", activation=\"relu\", name=\"Comb_DeConv2D_1\")(z)\n",
    "z = Conv2DTranspose(256, kernel_size=(5,5), strides=(2,2), padding=\"same\", activation=\"relu\", name=\"Comb_DeConv2D_2\")(z)\n",
    "z = Conv2D(256, kernel_size=(5,5), strides=(1,1), padding=\"same\", activation=\"relu\", name=\"Comb_Conv2D_2\")(z)\n",
    "z = Conv2D(1, kernel_size=(3,3), strides=(1,1), padding=\"same\", activation=\"relu\", name=\"Comb_Conv2D_3\")(z)\n",
    "\n",
    "model = Model(inputs=[x.input, y.input], outputs=z)\n",
    "\n",
    "model.compile(\n",
    "    optimizer=\"adam\",\n",
    "    loss=\"mae\",\n",
    "    metrics=['mae', 'mse'])"
   ]
  },
  {
   "cell_type": "code",
   "execution_count": 5,
   "metadata": {},
   "outputs": [
    {
     "name": "stdout",
     "output_type": "stream",
     "text": [
      "__________________________________________________________________________________________________\n",
      "Layer (type)                    Output Shape         Param #     Connected to                     \n",
      "==================================================================================================\n",
      "Color_Input (InputLayer)        (None, 256, 256, 3)  0                                            \n",
      "__________________________________________________________________________________________________\n",
      "IR_Input (InputLayer)           (None, 256, 256, 1)  0                                            \n",
      "__________________________________________________________________________________________________\n",
      "Color_Conv2D_1 (Conv2D)         (None, 128, 128, 256 19456       Color_Input[0][0]                \n",
      "__________________________________________________________________________________________________\n",
      "IR_Conv2D_1 (Conv2D)            (None, 128, 128, 256 6656        IR_Input[0][0]                   \n",
      "__________________________________________________________________________________________________\n",
      "Color_Conv2D_2 (Conv2D)         (None, 64, 64, 128)  295040      Color_Conv2D_1[0][0]             \n",
      "__________________________________________________________________________________________________\n",
      "IR_Conv2D_2 (Conv2D)            (None, 64, 64, 128)  295040      IR_Conv2D_1[0][0]                \n",
      "__________________________________________________________________________________________________\n",
      "Concat (Concatenate)            (None, 64, 64, 256)  0           Color_Conv2D_2[0][0]             \n",
      "                                                                 IR_Conv2D_2[0][0]                \n",
      "__________________________________________________________________________________________________\n",
      "Comb_Conv2D_1 (Conv2D)          (None, 64, 64, 64)   147520      Concat[0][0]                     \n",
      "__________________________________________________________________________________________________\n",
      "Comb_DeConv2D_1 (Conv2DTranspos (None, 128, 128, 128 73856       Comb_Conv2D_1[0][0]              \n",
      "__________________________________________________________________________________________________\n",
      "Comb_DeConv2D_2 (Conv2DTranspos (None, 256, 256, 256 819456      Comb_DeConv2D_1[0][0]            \n",
      "__________________________________________________________________________________________________\n",
      "Comb_Conv2D_2 (Conv2D)          (None, 256, 256, 256 1638656     Comb_DeConv2D_2[0][0]            \n",
      "__________________________________________________________________________________________________\n",
      "Comb_Conv2D_3 (Conv2D)          (None, 256, 256, 1)  2305        Comb_Conv2D_2[0][0]              \n",
      "==================================================================================================\n",
      "Total params: 3,297,985\n",
      "Trainable params: 3,297,985\n",
      "Non-trainable params: 0\n",
      "__________________________________________________________________________________________________\n"
     ]
    }
   ],
   "source": [
    "model.summary()"
   ]
  },
  {
   "cell_type": "code",
   "execution_count": null,
   "metadata": {},
   "outputs": [],
   "source": []
  }
 ],
 "metadata": {
  "kernelspec": {
   "display_name": "Python 3",
   "language": "python",
   "name": "python3"
  },
  "language_info": {
   "codemirror_mode": {
    "name": "ipython",
    "version": 3
   },
   "file_extension": ".py",
   "mimetype": "text/x-python",
   "name": "python",
   "nbconvert_exporter": "python",
   "pygments_lexer": "ipython3",
   "version": "3.6.9"
  }
 },
 "nbformat": 4,
 "nbformat_minor": 2
}
