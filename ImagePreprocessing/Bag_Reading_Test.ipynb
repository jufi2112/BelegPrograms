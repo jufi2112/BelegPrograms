{
 "cells": [
  {
   "cell_type": "markdown",
   "metadata": {},
   "source": [
    "# Bag Reading\n",
    "\n",
    "This program reads a specified .bag file and iterates through all frames included in this bag. The purpose is to test different things, for example if the depth of the converted images is still as it should be."
   ]
  },
  {
   "cell_type": "code",
   "execution_count": 4,
   "metadata": {},
   "outputs": [],
   "source": [
    "import pyrealsense2 as rs\n",
    "import numpy as np\n",
    "import cv2\n",
    "import os"
   ]
  },
  {
   "cell_type": "markdown",
   "metadata": {},
   "source": [
    "## Path to bag file"
   ]
  },
  {
   "cell_type": "code",
   "execution_count": 5,
   "metadata": {},
   "outputs": [],
   "source": [
    "path = '/media/julien/Transcend/Beleg/BelegDaten/Cloudy_Conditions'\n",
    "bag_file = 'Scene_4_Part_1.bag'\n",
    "file_path = os.path.join(path, bag_file)"
   ]
  },
  {
   "cell_type": "markdown",
   "metadata": {},
   "source": [
    "## Configure pipeline"
   ]
  },
  {
   "cell_type": "code",
   "execution_count": 10,
   "metadata": {},
   "outputs": [],
   "source": [
    "pipeline = rs.pipeline()\n",
    "config = rs.config()\n",
    "\n",
    "#config.enable_stream(rs.stream.color, 640, 480, rs.format.bgr8, 30)\n",
    "#config.enable_stream(rs.stream.depth, 640, 480, rs.format.z16, 30)\n",
    "#config.enable_stream(rs.stream.infrared, 640, 480, rs.format.y16, 30)\n",
    "\n",
    "rs.config.enable_device_from_file(config, file_path, False)"
   ]
  },
  {
   "cell_type": "markdown",
   "metadata": {},
   "source": [
    "## Start the pipeline"
   ]
  },
  {
   "cell_type": "code",
   "execution_count": 11,
   "metadata": {},
   "outputs": [],
   "source": [
    "pipeline.start(config)\n",
    "device = pipeline.get_active_profile().get_device()\n",
    "playback = device.as_playback()\n",
    "playback.set_real_time(False)"
   ]
  },
  {
   "cell_type": "markdown",
   "metadata": {},
   "source": [
    "## Get the first frame (all other frames should have equal shape)"
   ]
  },
  {
   "cell_type": "code",
   "execution_count": 27,
   "metadata": {},
   "outputs": [
    {
     "name": "stdout",
     "output_type": "stream",
     "text": [
      "(480, 640, 3)\n",
      "uint8\n",
      "(480, 640)\n",
      "uint16\n",
      "(480, 640)\n",
      "uint16\n"
     ]
    }
   ],
   "source": [
    "Success, frames = pipeline.try_wait_for_frames()\n",
    "if Success is True:\n",
    "    depth_frame = frames.get_depth_frame()\n",
    "    color_frame = frames.get_color_frame()\n",
    "    ir_frame = frames.get_infrared_frame()\n",
    "    \n",
    "    color = np.asarray(color_frame.get_data(), dtype=np.uint8)\n",
    "    depth = np.asarray(depth_frame.get_data(), dtype=np.uint16)\n",
    "    ir = np.asarray(ir_frame.get_data(), dtype=np.uint16)\n",
    "    \n",
    "    print(color.shape)\n",
    "    print(color.dtype)\n",
    "    print(depth.shape)\n",
    "    print(depth.dtype)\n",
    "    print(ir.shape)\n",
    "    print(ir.dtype)\n",
    "    \n",
    "    save_path = 'Images'\n",
    "    \n",
    "    color = cv2.cvtColor(color, cv2.COLOR_BGR2RGB)\n",
    "    cv2.imwrite(os.path.join(save_path, 'color.jpg'), color)\n",
    "    cv2.imwrite(os.path.join(save_path, 'depth.png'), depth)\n",
    "    cv2.imwrite(os.path.join(save_path, 'ir.png'), ir)\n",
    "        \n",
    "        "
   ]
  },
  {
   "cell_type": "code",
   "execution_count": 28,
   "metadata": {},
   "outputs": [
    {
     "name": "stdout",
     "output_type": "stream",
     "text": [
      "(480, 640, 3)\n",
      "uint8\n",
      "(480, 640)\n",
      "uint16\n",
      "(480, 640)\n",
      "uint16\n"
     ]
    }
   ],
   "source": [
    "c = cv2.imread(os.path.join(save_path, 'color.jpg'), cv2.IMREAD_COLOR)\n",
    "d = cv2.imread(os.path.join(save_path, 'depth.png'), cv2.IMREAD_ANYDEPTH)\n",
    "i = cv2.imread(os.path.join(save_path, 'ir.png'), cv2.IMREAD_ANYDEPTH)\n",
    "\n",
    "print(c.shape)\n",
    "print(c.dtype)\n",
    "print(d.shape)\n",
    "print(d.dtype)\n",
    "print(i.shape)\n",
    "print(i.dtype)"
   ]
  },
  {
   "cell_type": "code",
   "execution_count": null,
   "metadata": {},
   "outputs": [],
   "source": []
  },
  {
   "cell_type": "code",
   "execution_count": null,
   "metadata": {},
   "outputs": [],
   "source": []
  }
 ],
 "metadata": {
  "kernelspec": {
   "display_name": "Python 3",
   "language": "python",
   "name": "python3"
  },
  "language_info": {
   "codemirror_mode": {
    "name": "ipython",
    "version": 3
   },
   "file_extension": ".py",
   "mimetype": "text/x-python",
   "name": "python",
   "nbconvert_exporter": "python",
   "pygments_lexer": "ipython3",
   "version": "3.6.9"
  }
 },
 "nbformat": 4,
 "nbformat_minor": 2
}
