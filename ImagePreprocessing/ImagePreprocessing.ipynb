{
 "cells": [
  {
   "cell_type": "code",
   "execution_count": 29,
   "metadata": {},
   "outputs": [],
   "source": [
    "import cv2\n",
    "import numpy as np\n",
    "import matplotlib.pyplot as plt\n",
    "import os\n",
    "from tqdm import tqdm_notebook as tqdm\n",
    "# on default console\n",
    "# from tqdm import tqdm"
   ]
  },
  {
   "cell_type": "code",
   "execution_count": 30,
   "metadata": {},
   "outputs": [],
   "source": [
    "def save_as_png(images_bgra, images_depth, path):\n",
    "    for idx, img in enumerate(tqdm(images_bgra)):\n",
    "        filepath_bgra = os.path.join(path, 'Input', str(idx)+'.png')\n",
    "        filepath_depth = os.path.join(path, 'Groundtruth', str(idx)+'.png')\n",
    "        cv2.imwrite(filepath_bgra, img)\n",
    "        cv2.imwrite(filepath_depth, images_depth[idx])"
   ]
  },
  {
   "cell_type": "code",
   "execution_count": 31,
   "metadata": {},
   "outputs": [],
   "source": [
    "def read_and_merge_images(path_base):\n",
    "    available_files = os.listdir(os.path.join(path_base, 'Color'))\n",
    "    \n",
    "    # only use files with .jpg ending\n",
    "    files = [file for file in available_files if file[-4:] == \".jpg\"]\n",
    "    amount_invalid_files = 0\n",
    "    images_bgra = []\n",
    "    images_depth = []\n",
    "    \n",
    "    for file in tqdm(files):\n",
    "        img_color = cv2.imread(os.path.join(path_base, \"Color\", file), cv2.IMREAD_COLOR)\n",
    "        img_ir = cv2.imread(os.path.join(path_base, \"IR\", file), cv2.IMREAD_GRAYSCALE)\n",
    "        # use folder DepthRaw for non visualized depth images and parameter cv2.IMREAD_ANYDEPTH\n",
    "        #file_depth = file[:-4]\n",
    "        #file_depth = file_depth + \".png\"\n",
    "        # img_depth = cv2.imread(os.path.join(path_base, \"DepthRaw\", file_depth), cv2.IMREAD_ANYDEPTH)\n",
    "        img_depth = cv2.imread(os.path.join(path_base, \"Depth\", file), cv2.IMREAD_COLOR)\n",
    "        if img_color is None or img_ir is None or img_depth is None:\n",
    "            amount_invalid_files += 1\n",
    "            continue\n",
    "        \n",
    "        b, g, r = cv2.split(img_color)\n",
    "        \n",
    "        img_bgra = cv2.merge((b, g, r, img_ir))\n",
    "        \n",
    "        images_bgra.append(img_bgra)\n",
    "        images_depth.append(img_depth)\n",
    "        \n",
    "        \n",
    "    print(\"Numer of invalid images: \" + str(amount_invalid_files))\n",
    "    return np.asarray(images_bgra), np.asarray(images_depth)\n",
    "        "
   ]
  },
  {
   "cell_type": "code",
   "execution_count": 32,
   "metadata": {},
   "outputs": [
    {
     "data": {
      "application/vnd.jupyter.widget-view+json": {
       "model_id": "673e4378b7044d69a112569d2c6bf187",
       "version_major": 2,
       "version_minor": 0
      },
      "text/html": [
       "<p>Failed to display Jupyter Widget of type <code>HBox</code>.</p>\n",
       "<p>\n",
       "  If you're reading this message in the Jupyter Notebook or JupyterLab Notebook, it may mean\n",
       "  that the widgets JavaScript is still loading. If this message persists, it\n",
       "  likely means that the widgets JavaScript library is either not installed or\n",
       "  not enabled. See the <a href=\"https://ipywidgets.readthedocs.io/en/stable/user_install.html\">Jupyter\n",
       "  Widgets Documentation</a> for setup instructions.\n",
       "</p>\n",
       "<p>\n",
       "  If you're reading this message in another frontend (for example, a static\n",
       "  rendering on GitHub or <a href=\"https://nbviewer.jupyter.org/\">NBViewer</a>),\n",
       "  it may mean that your frontend doesn't currently support widgets.\n",
       "</p>\n"
      ],
      "text/plain": [
       "HBox(children=(IntProgress(value=0, max=726), HTML(value='')))"
      ]
     },
     "metadata": {},
     "output_type": "display_data"
    },
    {
     "name": "stdout",
     "output_type": "stream",
     "text": [
      "\n",
      "Numer of invalid images: 0\n",
      "(726, 480, 640, 4)\n",
      "(726, 480, 640, 3)\n"
     ]
    }
   ],
   "source": [
    "# load color and ir images and merge to one image\n",
    "\n",
    "images_bgra, images_depth = read_and_merge_images(os.path.join('D:/', 'Users', 'Julien', 'Documents', 'Beleg_Daten', 'Beleg_Daten_Innenbeleuchtung', 'Raw'))\n",
    "\n",
    "print(images_bgra.shape)\n",
    "print(images_depth.shape)\n",
    "\n",
    "\n"
   ]
  },
  {
   "cell_type": "code",
   "execution_count": 33,
   "metadata": {},
   "outputs": [
    {
     "data": {
      "application/vnd.jupyter.widget-view+json": {
       "model_id": "e635d6753d06493cab4fbc3562c30cc9",
       "version_major": 2,
       "version_minor": 0
      },
      "text/html": [
       "<p>Failed to display Jupyter Widget of type <code>HBox</code>.</p>\n",
       "<p>\n",
       "  If you're reading this message in the Jupyter Notebook or JupyterLab Notebook, it may mean\n",
       "  that the widgets JavaScript is still loading. If this message persists, it\n",
       "  likely means that the widgets JavaScript library is either not installed or\n",
       "  not enabled. See the <a href=\"https://ipywidgets.readthedocs.io/en/stable/user_install.html\">Jupyter\n",
       "  Widgets Documentation</a> for setup instructions.\n",
       "</p>\n",
       "<p>\n",
       "  If you're reading this message in another frontend (for example, a static\n",
       "  rendering on GitHub or <a href=\"https://nbviewer.jupyter.org/\">NBViewer</a>),\n",
       "  it may mean that your frontend doesn't currently support widgets.\n",
       "</p>\n"
      ],
      "text/plain": [
       "HBox(children=(IntProgress(value=0, max=726), HTML(value='')))"
      ]
     },
     "metadata": {},
     "output_type": "display_data"
    },
    {
     "name": "stdout",
     "output_type": "stream",
     "text": [
      "\n"
     ]
    }
   ],
   "source": [
    "# write images to drive\n",
    "path = os.path.join('D:/', 'Users', 'Julien', 'Documents', 'Beleg_Daten', 'Beleg_Daten_Innenbeleuchtung', 'Processed')\n",
    "save_as_png(images_bgra, images_depth, path)"
   ]
  }
 ],
 "metadata": {
  "kernelspec": {
   "display_name": "Python 3",
   "language": "python",
   "name": "python3"
  },
  "language_info": {
   "codemirror_mode": {
    "name": "ipython",
    "version": 3
   },
   "file_extension": ".py",
   "mimetype": "text/x-python",
   "name": "python",
   "nbconvert_exporter": "python",
   "pygments_lexer": "ipython3",
   "version": "3.6.4"
  }
 },
 "nbformat": 4,
 "nbformat_minor": 2
}
